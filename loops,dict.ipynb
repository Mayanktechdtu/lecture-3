{
 "cells": [
  {
   "cell_type": "code",
   "execution_count": 20,
   "id": "e0d3343b-c7c9-4bed-99bf-c3a2eef93484",
   "metadata": {},
   "outputs": [],
   "source": [
    "#dict is mutable\n",
    "#key must be unique..if its same than it sows the last upd key value only.."
   ]
  },
  {
   "cell_type": "code",
   "execution_count": 12,
   "id": "aa9b1bf1-dfe7-49ab-88de-66843b29e8f2",
   "metadata": {},
   "outputs": [
    {
     "data": {
      "text/plain": [
       "{'key': 'mayank'}"
      ]
     },
     "execution_count": 12,
     "metadata": {},
     "output_type": "execute_result"
    }
   ],
   "source": [
    "d={\"key\":\"mayank\"}\n",
    "d"
   ]
  },
  {
   "cell_type": "code",
   "execution_count": 16,
   "id": "1e797c4c-3599-4f22-ae6e-5cb0ebbe8748",
   "metadata": {},
   "outputs": [
    {
     "data": {
      "text/plain": [
       "{'name': 'kkak', 'degrre': 'engi', 'num': 7878766}"
      ]
     },
     "execution_count": 16,
     "metadata": {},
     "output_type": "execute_result"
    }
   ],
   "source": [
    "a={\"name\":\"mayank\",\"degrre\":\"engi\",\"num\":7878766,\"name\":\"kkak\"}\n",
    "a"
   ]
  },
  {
   "cell_type": "code",
   "execution_count": 17,
   "id": "bc0b8348-c412-4baf-a396-ac3d9863c4c1",
   "metadata": {},
   "outputs": [
    {
     "ename": "KeyError",
     "evalue": "0",
     "output_type": "error",
     "traceback": [
      "\u001b[0;31m---------------------------------------------------------------------------\u001b[0m",
      "\u001b[0;31mKeyError\u001b[0m                                  Traceback (most recent call last)",
      "Cell \u001b[0;32mIn[17], line 1\u001b[0m\n\u001b[0;32m----> 1\u001b[0m \u001b[43ma\u001b[49m\u001b[43m[\u001b[49m\u001b[38;5;241;43m0\u001b[39;49m\u001b[43m]\u001b[49m\n\u001b[1;32m      2\u001b[0m a\n",
      "\u001b[0;31mKeyError\u001b[0m: 0"
     ]
    }
   ],
   "source": [
    "a[0]\n",
    "a"
   ]
  },
  {
   "cell_type": "code",
   "execution_count": 19,
   "id": "d3c10197-081b-444a-bbeb-eaed23c77fa3",
   "metadata": {},
   "outputs": [
    {
     "data": {
      "text/plain": [
       "'kkak'"
      ]
     },
     "execution_count": 19,
     "metadata": {},
     "output_type": "execute_result"
    }
   ],
   "source": [
    "a[\"name\"] #most recent chnge will appear if same key avialible"
   ]
  },
  {
   "cell_type": "code",
   "execution_count": 22,
   "id": "b09b2a76-f5d6-4d97-9585-71431d3edd80",
   "metadata": {},
   "outputs": [
    {
     "data": {
      "text/plain": [
       "{'name': 'kkak', 'degrre': 'engi', 'num': 7878766, 'maial': 'engi'}"
      ]
     },
     "execution_count": 22,
     "metadata": {},
     "output_type": "execute_result"
    }
   ],
   "source": [
    "a={\"name\":\"mayank\",\"degrre\":\"engi\",\"num\":7878766,\"name\":\"kkak\",\"maial\":\"engi\"}\n",
    "a"
   ]
  },
  {
   "cell_type": "code",
   "execution_count": 1,
   "id": "f837ff4e-c6d3-4f07-8068-f96aa53a9b0c",
   "metadata": {},
   "outputs": [
    {
     "data": {
      "text/plain": [
       "{'name': 'kkak', 'degrre': 'engi', 'num': 7878766}"
      ]
     },
     "execution_count": 1,
     "metadata": {},
     "output_type": "execute_result"
    }
   ],
   "source": [
    "a={\"name\":\"mayank\",\"degrre\":\"engi\",\"num\":7878766,\"name\":\"kkak\",}\n",
    "a"
   ]
  },
  {
   "cell_type": "code",
   "execution_count": 2,
   "id": "48dae46b-9d4b-4906-a4dd-d4ce98e7db6d",
   "metadata": {},
   "outputs": [
    {
     "data": {
      "text/plain": [
       "{'k': 'as', 'a': [2, 3, 'may']}"
      ]
     },
     "execution_count": 2,
     "metadata": {},
     "output_type": "execute_result"
    }
   ],
   "source": [
    "b={\"k\":\"as\",\"a\":[2,3,\"may\"]}\n",
    "b"
   ]
  },
  {
   "cell_type": "code",
   "execution_count": 7,
   "id": "bb0f45a9-0dd1-4854-b854-fabd7960797a",
   "metadata": {},
   "outputs": [
    {
     "data": {
      "text/plain": [
       "{'k': 'as', 'a': [2, 3, 'may'], 'j': (2, 3, 4), 'm': {1, 5, 6}}"
      ]
     },
     "execution_count": 7,
     "metadata": {},
     "output_type": "execute_result"
    }
   ],
   "source": [
    "b={\"k\":\"as\",\"a\":[2,3,\"may\"],\"j\":(2,3,4),\"m\":{1,5,6}}\n",
    "b #dict contain all list tuple set"
   ]
  },
  {
   "cell_type": "code",
   "execution_count": 13,
   "id": "b7d20416-364e-42ae-8b51-0a70f030369c",
   "metadata": {},
   "outputs": [
    {
     "data": {
      "text/plain": [
       "3"
      ]
     },
     "execution_count": 13,
     "metadata": {},
     "output_type": "execute_result"
    }
   ],
   "source": [
    "b[\"a\"][1] #in list and tuple you can find"
   ]
  },
  {
   "cell_type": "code",
   "execution_count": 12,
   "id": "fdc353ee-9b27-4bfe-96cd-acf1ff9f73c9",
   "metadata": {},
   "outputs": [
    {
     "ename": "TypeError",
     "evalue": "'set' object is not subscriptable",
     "output_type": "error",
     "traceback": [
      "\u001b[0;31m---------------------------------------------------------------------------\u001b[0m",
      "\u001b[0;31mTypeError\u001b[0m                                 Traceback (most recent call last)",
      "Cell \u001b[0;32mIn[12], line 1\u001b[0m\n\u001b[0;32m----> 1\u001b[0m \u001b[43mb\u001b[49m\u001b[43m[\u001b[49m\u001b[38;5;124;43m\"\u001b[39;49m\u001b[38;5;124;43mm\u001b[39;49m\u001b[38;5;124;43m\"\u001b[39;49m\u001b[43m]\u001b[49m\u001b[43m[\u001b[49m\u001b[38;5;241;43m1\u001b[39;49m\u001b[43m]\u001b[49m\u001b[38;5;66;03m#in set you cant assing index for any\u001b[39;00m\n",
      "\u001b[0;31mTypeError\u001b[0m: 'set' object is not subscriptable"
     ]
    }
   ],
   "source": [
    "b[\"m\"][1]#in set you cant assing index for any"
   ]
  },
  {
   "cell_type": "code",
   "execution_count": 15,
   "id": "d2ed23d8-0463-4129-925a-950e7a54e646",
   "metadata": {},
   "outputs": [
    {
     "data": {
      "text/plain": [
       "{'k': 'as', 'a': [2, 3, 'may'], 'j': (2, 3, 4), 'm': {1, 5, 6}, 'ok': ['lo']}"
      ]
     },
     "execution_count": 15,
     "metadata": {},
     "output_type": "execute_result"
    }
   ],
   "source": [
    "b[\"ok\"]=[\"lo\"]\n",
    "b#to add somethin in dict"
   ]
  },
  {
   "cell_type": "code",
   "execution_count": 20,
   "id": "d4f65dc3-b651-4cdb-8592-bb7b0f90fb1e",
   "metadata": {},
   "outputs": [
    {
     "ename": "KeyError",
     "evalue": "'k'",
     "output_type": "error",
     "traceback": [
      "\u001b[0;31m---------------------------------------------------------------------------\u001b[0m",
      "\u001b[0;31mKeyError\u001b[0m                                  Traceback (most recent call last)",
      "Cell \u001b[0;32mIn[20], line 1\u001b[0m\n\u001b[0;32m----> 1\u001b[0m \u001b[38;5;28;01mdel\u001b[39;00m b[\u001b[38;5;124m\"\u001b[39m\u001b[38;5;124mk\u001b[39m\u001b[38;5;124m\"\u001b[39m] \u001b[38;5;66;03m#to delete something from dict\u001b[39;00m\n",
      "\u001b[0;31mKeyError\u001b[0m: 'k'"
     ]
    }
   ],
   "source": [
    "del b[\"k\"] #to delete something from dict"
   ]
  },
  {
   "cell_type": "code",
   "execution_count": 19,
   "id": "fdbf2c81-d1db-4044-a576-faf8552f5aa0",
   "metadata": {},
   "outputs": [
    {
     "data": {
      "text/plain": [
       "{'a': [2, 3, 'may'], 'j': (2, 3, 4), 'm': {1, 5, 6}, 'ok': ['lo']}"
      ]
     },
     "execution_count": 19,
     "metadata": {},
     "output_type": "execute_result"
    }
   ],
   "source": [
    "b"
   ]
  },
  {
   "cell_type": "code",
   "execution_count": 22,
   "id": "3912e2ee-f437-4117-ac24-57b83bbd5505",
   "metadata": {},
   "outputs": [
    {
     "data": {
      "text/plain": [
       "['a', 'j', 'm', 'ok']"
      ]
     },
     "execution_count": 22,
     "metadata": {},
     "output_type": "execute_result"
    }
   ],
   "source": [
    "list (b.keys()) #print all keys in list form"
   ]
  },
  {
   "cell_type": "code",
   "execution_count": 23,
   "id": "f8ce76f5-ca00-459f-ad18-e9cb0efc3de6",
   "metadata": {},
   "outputs": [
    {
     "data": {
      "text/plain": [
       "dict_keys(['a', 'j', 'm', 'ok'])"
      ]
     },
     "execution_count": 23,
     "metadata": {},
     "output_type": "execute_result"
    }
   ],
   "source": [
    "b.keys()"
   ]
  },
  {
   "cell_type": "code",
   "execution_count": 24,
   "id": "55d9ed94-4303-4d69-8018-ab53df99d395",
   "metadata": {},
   "outputs": [
    {
     "data": {
      "text/plain": [
       "dict_items([('a', [2, 3, 'may']), ('j', (2, 3, 4)), ('m', {1, 5, 6}), ('ok', ['lo'])])"
      ]
     },
     "execution_count": 24,
     "metadata": {},
     "output_type": "execute_result"
    }
   ],
   "source": [
    "b.items() #all key and value"
   ]
  },
  {
   "cell_type": "code",
   "execution_count": 25,
   "id": "86391be1-93c8-499b-bf97-a533181d396c",
   "metadata": {},
   "outputs": [
    {
     "data": {
      "text/plain": [
       "[2, 3, 'may']"
      ]
     },
     "execution_count": 25,
     "metadata": {},
     "output_type": "execute_result"
    }
   ],
   "source": [
    "b.pop(\"a\")"
   ]
  },
  {
   "cell_type": "code",
   "execution_count": 26,
   "id": "0c159d7c-3e82-4790-a679-53d265aa1dfc",
   "metadata": {},
   "outputs": [
    {
     "data": {
      "text/plain": [
       "{'j': (2, 3, 4), 'm': {1, 5, 6}, 'ok': ['lo']}"
      ]
     },
     "execution_count": 26,
     "metadata": {},
     "output_type": "execute_result"
    }
   ],
   "source": [
    "b"
   ]
  },
  {
   "cell_type": "code",
   "execution_count": 27,
   "id": "bd09abe5-e653-4009-90e9-5bdef0320abb",
   "metadata": {},
   "outputs": [],
   "source": [
    "#conditions"
   ]
  },
  {
   "cell_type": "code",
   "execution_count": 36,
   "id": "0ba05e1b-c684-4c1c-9439-62786118c611",
   "metadata": {},
   "outputs": [
    {
     "name": "stdin",
     "output_type": "stream",
     "text": [
      "enter marks 12\n"
     ]
    },
    {
     "name": "stdout",
     "output_type": "stream",
     "text": [
      "try skills\n"
     ]
    }
   ],
   "source": [
    "marks=int(input(\"enter marks\"))\n",
    "if marks>=80:\n",
    "    print(\"you go aboard\")\n",
    "elif marks>=50 and marks<=30:\n",
    "    print(\"good\")\n",
    "else:\n",
    "    print(\"try skills\")"
   ]
  },
  {
   "cell_type": "code",
   "execution_count": 37,
   "id": "857293b1-d378-48e3-9dda-6fe5a0e923ea",
   "metadata": {},
   "outputs": [],
   "source": [
    "#loop"
   ]
  },
  {
   "cell_type": "code",
   "execution_count": 38,
   "id": "c994e2d4-fbab-4bc3-8b51-6cb0eb741c4f",
   "metadata": {},
   "outputs": [],
   "source": [
    "l=[1,2,34,5,56]\n"
   ]
  },
  {
   "cell_type": "code",
   "execution_count": 44,
   "id": "fad40951-8a39-48c5-bfae-9c2e48c8b321",
   "metadata": {},
   "outputs": [
    {
     "name": "stdout",
     "output_type": "stream",
     "text": [
      "1\n",
      "2\n",
      "34\n",
      "5\n",
      "56\n"
     ]
    }
   ],
   "source": [
    "l1=[]\n",
    "for i in l:\n",
    "    print(i)\n",
    "    l1.append(i+1)"
   ]
  },
  {
   "cell_type": "code",
   "execution_count": 43,
   "id": "217c1a7a-f405-44ea-a460-7c13dcae51f1",
   "metadata": {},
   "outputs": [
    {
     "data": {
      "text/plain": [
       "[2, 3, 35, 6, 57]"
      ]
     },
     "execution_count": 43,
     "metadata": {},
     "output_type": "execute_result"
    }
   ],
   "source": [
    "l1"
   ]
  },
  {
   "cell_type": "code",
   "execution_count": 15,
   "id": "9a958360-c18e-4333-a839-7431b24aab6c",
   "metadata": {},
   "outputs": [],
   "source": [
    "l2=[]\n",
    "l3=[]\n",
    "l4=[]\n",
    "a=[1,2,3,4,5,\"may\",\"kka\",34.2]\n",
    "for i in a:\n",
    "    if type(i)==int:\n",
    "        l2.append(i)\n",
    "    elif type(i)==float:\n",
    "        l4.append(i)\n",
    "    else:\n",
    "        l3.append(i)\n",
    "        \n",
    "        \n",
    "    "
   ]
  },
  {
   "cell_type": "code",
   "execution_count": 16,
   "id": "a957e618-99dc-4717-8e8f-853676c49c6d",
   "metadata": {},
   "outputs": [
    {
     "data": {
      "text/plain": [
       "[34.2]"
      ]
     },
     "execution_count": 16,
     "metadata": {},
     "output_type": "execute_result"
    }
   ],
   "source": [
    "l4"
   ]
  },
  {
   "cell_type": "code",
   "execution_count": 17,
   "id": "f24967c7-3b50-400a-9758-d964d8db0bc1",
   "metadata": {},
   "outputs": [
    {
     "data": {
      "text/plain": [
       "['may', 'kka']"
      ]
     },
     "execution_count": 17,
     "metadata": {},
     "output_type": "execute_result"
    }
   ],
   "source": [
    "l3"
   ]
  },
  {
   "cell_type": "code",
   "execution_count": 18,
   "id": "7f455656-3b89-4ead-8936-7509080958b8",
   "metadata": {},
   "outputs": [
    {
     "data": {
      "text/plain": [
       "[1, 2, 3, 4, 5]"
      ]
     },
     "execution_count": 18,
     "metadata": {},
     "output_type": "execute_result"
    }
   ],
   "source": [
    "l2"
   ]
  },
  {
   "cell_type": "code",
   "execution_count": null,
   "id": "15958044-caf7-4292-8139-3429d85209da",
   "metadata": {},
   "outputs": [],
   "source": []
  }
 ],
 "metadata": {
  "kernelspec": {
   "display_name": "Python 3 (ipykernel)",
   "language": "python",
   "name": "python3"
  },
  "language_info": {
   "codemirror_mode": {
    "name": "ipython",
    "version": 3
   },
   "file_extension": ".py",
   "mimetype": "text/x-python",
   "name": "python",
   "nbconvert_exporter": "python",
   "pygments_lexer": "ipython3",
   "version": "3.10.8"
  }
 },
 "nbformat": 4,
 "nbformat_minor": 5
}
